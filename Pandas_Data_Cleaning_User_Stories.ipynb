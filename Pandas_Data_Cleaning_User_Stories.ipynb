{
 "cells": [
  {
   "cell_type": "markdown",
   "metadata": {},
   "source": [
    "## Project: Data Cleaning with Pandas\n",
    "\n",
    "#### Below will be a series of user stories, followed by an empty Python code block\n",
    "* These user stories will go through the process of importing, cleaning, and exporting the included `dirty_cars_dataset.csv` file\n",
    "* Be sure to read each question carefully, and to test and debug your code to ensure the user story is completed correctly!\n"
   ]
  },
  {
   "cell_type": "markdown",
   "metadata": {},
   "source": [
    "### As a Data Analyst, I want to set up the proper imports so I have access to the Pandas library"
   ]
  },
  {
   "cell_type": "code",
   "execution_count": 1,
   "metadata": {},
   "outputs": [],
   "source": [
    "import pandas as pd"
   ]
  },
  {
   "cell_type": "markdown",
   "metadata": {},
   "source": [
    "### As a Data Analyst, I want to import and store the `dirty_cars_dataset.csv` file in a variable\n",
    "✅ I want to use the `index` column from this .csv file as the `index column` of my DataFrame"
   ]
  },
  {
   "cell_type": "code",
   "execution_count": 2,
   "metadata": {},
   "outputs": [
    {
     "data": {
      "text/html": [
       "<div>\n",
       "<style scoped>\n",
       "    .dataframe tbody tr th:only-of-type {\n",
       "        vertical-align: middle;\n",
       "    }\n",
       "\n",
       "    .dataframe tbody tr th {\n",
       "        vertical-align: top;\n",
       "    }\n",
       "\n",
       "    .dataframe thead th {\n",
       "        text-align: right;\n",
       "    }\n",
       "</style>\n",
       "<table border=\"1\" class=\"dataframe\">\n",
       "  <thead>\n",
       "    <tr style=\"text-align: right;\">\n",
       "      <th></th>\n",
       "      <th>company</th>\n",
       "      <th>body-style</th>\n",
       "      <th>wheel-base</th>\n",
       "      <th>length</th>\n",
       "      <th>engine-type</th>\n",
       "      <th>num-of-cylinders</th>\n",
       "      <th>horsepower</th>\n",
       "      <th>average-mileage</th>\n",
       "      <th>price</th>\n",
       "    </tr>\n",
       "    <tr>\n",
       "      <th>index</th>\n",
       "      <th></th>\n",
       "      <th></th>\n",
       "      <th></th>\n",
       "      <th></th>\n",
       "      <th></th>\n",
       "      <th></th>\n",
       "      <th></th>\n",
       "      <th></th>\n",
       "      <th></th>\n",
       "    </tr>\n",
       "  </thead>\n",
       "  <tbody>\n",
       "    <tr>\n",
       "      <th>0</th>\n",
       "      <td>alfa-romero</td>\n",
       "      <td>convertible</td>\n",
       "      <td>88.6</td>\n",
       "      <td>168.8</td>\n",
       "      <td>dohc</td>\n",
       "      <td>four</td>\n",
       "      <td>111</td>\n",
       "      <td>21</td>\n",
       "      <td>13495.0</td>\n",
       "    </tr>\n",
       "    <tr>\n",
       "      <th>1</th>\n",
       "      <td>alfa-romero</td>\n",
       "      <td>convertible</td>\n",
       "      <td>88.6</td>\n",
       "      <td>168.8</td>\n",
       "      <td>dohc</td>\n",
       "      <td>four</td>\n",
       "      <td>111</td>\n",
       "      <td>21</td>\n",
       "      <td>16500.0</td>\n",
       "    </tr>\n",
       "    <tr>\n",
       "      <th>2</th>\n",
       "      <td>alfa-romero</td>\n",
       "      <td>hatchback</td>\n",
       "      <td>94.5</td>\n",
       "      <td>171.2</td>\n",
       "      <td>ohcv</td>\n",
       "      <td>six</td>\n",
       "      <td>154</td>\n",
       "      <td>19</td>\n",
       "      <td>1650000.0</td>\n",
       "    </tr>\n",
       "    <tr>\n",
       "      <th>3</th>\n",
       "      <td>audi</td>\n",
       "      <td>sedan</td>\n",
       "      <td>99.8</td>\n",
       "      <td>176.6</td>\n",
       "      <td>ohc</td>\n",
       "      <td>four</td>\n",
       "      <td>102</td>\n",
       "      <td>24</td>\n",
       "      <td>13950.0</td>\n",
       "    </tr>\n",
       "    <tr>\n",
       "      <th>4</th>\n",
       "      <td>audi</td>\n",
       "      <td>sedan</td>\n",
       "      <td>99.4</td>\n",
       "      <td>176.6</td>\n",
       "      <td>ohc</td>\n",
       "      <td>five</td>\n",
       "      <td>115</td>\n",
       "      <td>18</td>\n",
       "      <td>17450.0</td>\n",
       "    </tr>\n",
       "  </tbody>\n",
       "</table>\n",
       "</div>"
      ],
      "text/plain": [
       "           company   body-style  wheel-base  length engine-type   \n",
       "index                                                             \n",
       "0      alfa-romero  convertible        88.6   168.8        dohc  \\\n",
       "1      alfa-romero  convertible        88.6   168.8        dohc   \n",
       "2      alfa-romero    hatchback        94.5   171.2        ohcv   \n",
       "3             audi        sedan        99.8   176.6         ohc   \n",
       "4             audi        sedan        99.4   176.6         ohc   \n",
       "\n",
       "      num-of-cylinders  horsepower  average-mileage      price  \n",
       "index                                                           \n",
       "0                 four         111               21    13495.0  \n",
       "1                 four         111               21    16500.0  \n",
       "2                  six         154               19  1650000.0  \n",
       "3                 four         102               24    13950.0  \n",
       "4                 five         115               18    17450.0  "
      ]
     },
     "execution_count": 2,
     "metadata": {},
     "output_type": "execute_result"
    }
   ],
   "source": [
    "dirty_cars_df = pd.read_csv(\"dirty_cars_dataset.csv\", index_col=[\"index\"])\n",
    "dirty_cars_df.head()"
   ]
  },
  {
   "cell_type": "markdown",
   "metadata": {},
   "source": [
    "### As a Data Analyst, I want to view the **information** about my new DataFrame to answer the following questions:\n",
    "##### Enter your responses in the Markdown block below"
   ]
  },
  {
   "attachments": {},
   "cell_type": "markdown",
   "metadata": {},
   "source": [
    "* How many entries are in this DataFrame: 64\n",
    "* How many columns are in this DataFrame: 9\n",
    "* Which column(s) contain null values in this DataFrame: price"
   ]
  },
  {
   "cell_type": "code",
   "execution_count": 3,
   "metadata": {},
   "outputs": [
    {
     "name": "stdout",
     "output_type": "stream",
     "text": [
      "<class 'pandas.core.frame.DataFrame'>\n",
      "Index: 64 entries, 0 to 88\n",
      "Data columns (total 9 columns):\n",
      " #   Column            Non-Null Count  Dtype  \n",
      "---  ------            --------------  -----  \n",
      " 0   company           64 non-null     object \n",
      " 1   body-style        64 non-null     object \n",
      " 2   wheel-base        64 non-null     float64\n",
      " 3   length            64 non-null     float64\n",
      " 4   engine-type       64 non-null     object \n",
      " 5   num-of-cylinders  64 non-null     object \n",
      " 6   horsepower        64 non-null     int64  \n",
      " 7   average-mileage   64 non-null     int64  \n",
      " 8   price             61 non-null     float64\n",
      "dtypes: float64(3), int64(2), object(4)\n",
      "memory usage: 5.0+ KB\n"
     ]
    }
   ],
   "source": [
    "dirty_cars_df.info()"
   ]
  },
  {
   "cell_type": "markdown",
   "metadata": {},
   "source": [
    "### As a Data Analyst, I want to to remove any null values from the DataFrame\n",
    "✅ I want to **create a new DataFrame variable** when I remove these null values<br>\n",
    "✅ Then, I want to display the **information** about my new DataFrame, to confirm the null values were successfully removed"
   ]
  },
  {
   "cell_type": "code",
   "execution_count": null,
   "metadata": {},
   "outputs": [],
   "source": []
  },
  {
   "cell_type": "markdown",
   "metadata": {},
   "source": [
    "### As a Data Analyst, I want to check if there are any **duplicate rows** within my DataFrame"
   ]
  },
  {
   "cell_type": "code",
   "execution_count": null,
   "metadata": {},
   "outputs": [],
   "source": []
  },
  {
   "cell_type": "markdown",
   "metadata": {},
   "source": [
    "### As a Data Analyst, I want to **remove** any duplicate values from the DataFrame\n",
    "✅ I want to **create a new DataFrame variable** when I remove these duplicate values<br>\n",
    "✅ I want to again check if there are any duplicate rows within my DataFrame, to ensure the values were removed successfully"
   ]
  },
  {
   "cell_type": "code",
   "execution_count": null,
   "metadata": {},
   "outputs": [],
   "source": []
  },
  {
   "cell_type": "markdown",
   "metadata": {},
   "source": [
    "### As a Data Analyst, I want to ensure I remove any outlier values from my DataFrame to avoid inaccurate analysis of my data\n",
    "✅I want to **create a new DataFrame variable** when I remove these values<br><br>\n",
    "💡 **Hint:** These inaccuracies will be within the `price` column 💡<br><br>\n",
    "💡 **Hint** There will be both **high** and **low** outlier values 💡"
   ]
  },
  {
   "cell_type": "code",
   "execution_count": null,
   "metadata": {},
   "outputs": [],
   "source": [
    "# Removing high outlier values"
   ]
  },
  {
   "cell_type": "code",
   "execution_count": null,
   "metadata": {},
   "outputs": [],
   "source": [
    "# Removing low outlier values"
   ]
  },
  {
   "cell_type": "markdown",
   "metadata": {},
   "source": [
    "### As a Data Analyst, I want to reformat the **company** series, ensuring all company name values are properly title (Pascal) cased"
   ]
  },
  {
   "cell_type": "code",
   "execution_count": null,
   "metadata": {},
   "outputs": [],
   "source": []
  },
  {
   "cell_type": "markdown",
   "metadata": {},
   "source": [
    "### As a Data Analyst, I want to create a ***new*** column on my DataFrame to represent the **price of each car in Euros**\n",
    "💡 **Use the conversion rate 1.05 USD == 1 Euro** 💡"
   ]
  },
  {
   "cell_type": "code",
   "execution_count": null,
   "metadata": {},
   "outputs": [],
   "source": []
  },
  {
   "cell_type": "markdown",
   "metadata": {},
   "source": [
    "### As a Data Analyst, I want to rename the existing **price** column to show that it represents **price in USD**"
   ]
  },
  {
   "cell_type": "code",
   "execution_count": null,
   "metadata": {},
   "outputs": [],
   "source": []
  },
  {
   "cell_type": "markdown",
   "metadata": {},
   "source": [
    "### As a Data Analyst, I want to output my cleaned DataFrame as a .csv file\n",
    "✅ I want to name this file `cleaned_cars_dataset.csv`<br>\n",
    "✅ I want to specify the encoding type 'utf-8'<br>\n",
    "✅ I want to include this .csv file in my GitHub repository"
   ]
  },
  {
   "cell_type": "code",
   "execution_count": null,
   "metadata": {},
   "outputs": [],
   "source": []
  }
 ],
 "metadata": {
  "kernelspec": {
   "display_name": "Python 3.10.5 64-bit",
   "language": "python",
   "name": "python3"
  },
  "language_info": {
   "codemirror_mode": {
    "name": "ipython",
    "version": 3
   },
   "file_extension": ".py",
   "mimetype": "text/x-python",
   "name": "python",
   "nbconvert_exporter": "python",
   "pygments_lexer": "ipython3",
   "version": "3.11.1"
  },
  "orig_nbformat": 4,
  "vscode": {
   "interpreter": {
    "hash": "991b4f12e3cd7e62d84ec965b56412c4354ac1fe6297d96f50a80e713193dd77"
   }
  }
 },
 "nbformat": 4,
 "nbformat_minor": 2
}
